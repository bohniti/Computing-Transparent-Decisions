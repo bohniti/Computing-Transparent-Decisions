{
 "cells": [
  {
   "cell_type": "markdown",
   "metadata": {
    "colab_type": "text",
    "id": "KWz5PWOjXl1G"
   },
   "source": [
    "#   - computing of transparent decisions (XAI), with the help of Deep Learning methods\n",
    "\n",
    "The following Notebooks represents the Prototype which is introduced in the Bachelorthises \"Automatic image recognition in upload filters - computing of transparent decisions (XAI), with the help of Deep Learning methods\". The Prototype Implementation was created to show how the SHAP library can be used to make convolutional networks decisions transparent.\n",
    "\n",
    "Therefore it uses a VGG16 architecture and transfer learning as can be seen in the corresponding thesis. \n",
    "\n",
    "To save hardware resources, this Notebook is optimized for Google collab. An interactive online ide. With the help of Jupyter Notebooks, it allows using of google hardware resources to work and machine learning tasks.\n",
    "\n",
    "\n"
   ]
  },
  {
   "cell_type": "code",
   "execution_count": null,
   "metadata": {
    "colab": {
     "base_uri": "https://localhost:8080/",
     "height": 34
    },
    "colab_type": "code",
    "id": "f1LmKoW84dra",
    "outputId": "42ff7866-e46d-4bbf-e079-d8ed819a2572"
   },
   "outputs": [],
   "source": [
    "from keras.applications.vgg16 import VGG16\n",
    "from keras.applications.vgg16 import preprocess_input\n",
    "import keras.backend as K\n",
    "import numpy as np\n",
    "import json\n",
    "import shap\n",
    "import os\n",
    "import shutil\n",
    "from keras.preprocessing.image import ImageDataGenerator\n",
    "\n",
    "#print(keras.__version__)\n",
    "#print(shap.__version__)"
   ]
  },
  {
   "cell_type": "code",
   "execution_count": null,
   "metadata": {},
   "outputs": [],
   "source": [
    "# Test of the SHAP Library\n",
    "\n",
    "## Use the example case from the github page"
   ]
  }
 ],
 "metadata": {
  "colab": {
   "collapsed_sections": [
    "_CVObhON4drr"
   ],
   "name": "bachelor.ipynb",
   "provenance": [],
   "toc_visible": true
  },
  "kernelspec": {
   "display_name": "Python 3",
   "language": "python",
   "name": "python3"
  },
  "language_info": {
   "codemirror_mode": {
    "name": "ipython",
    "version": 3
   },
   "file_extension": ".py",
   "mimetype": "text/x-python",
   "name": "python",
   "nbconvert_exporter": "python",
   "pygments_lexer": "ipython3",
   "version": "3.7.6"
  }
 },
 "nbformat": 4,
 "nbformat_minor": 1
}
